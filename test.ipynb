{
 "cells": [
  {
   "cell_type": "code",
   "execution_count": 4,
   "metadata": {},
   "outputs": [
    {
     "ename": "ValueError",
     "evalue": "max() arg is an empty sequence",
     "output_type": "error",
     "traceback": [
      "\u001b[1;31m---------------------------------------------------------------------------\u001b[0m",
      "\u001b[1;31mValueError\u001b[0m                                Traceback (most recent call last)",
      "Cell \u001b[1;32mIn[4], line 6\u001b[0m\n\u001b[0;32m      3\u001b[0m basic \u001b[38;5;241m=\u001b[39m BasicTokenizer()\n\u001b[0;32m      4\u001b[0m regex \u001b[38;5;241m=\u001b[39m RegexTokenizer()\n\u001b[1;32m----> 6\u001b[0m \u001b[43mbasic\u001b[49m\u001b[38;5;241;43m.\u001b[39;49m\u001b[43mtrain\u001b[49m\u001b[43m(\u001b[49m\u001b[38;5;124;43m\"\u001b[39;49m\u001b[38;5;124;43m./test/taylorswift.txt\u001b[39;49m\u001b[38;5;124;43m\"\u001b[39;49m\u001b[43m,\u001b[49m\u001b[43m \u001b[49m\u001b[38;5;241;43m300\u001b[39;49m\u001b[43m)\u001b[49m\n\u001b[0;32m      7\u001b[0m regex\u001b[38;5;241m.\u001b[39mtrain(\u001b[38;5;124m\"\u001b[39m\u001b[38;5;124m./test/taylorswift.txt\u001b[39m\u001b[38;5;124m\"\u001b[39m, \u001b[38;5;241m300\u001b[39m)\n\u001b[0;32m      9\u001b[0m text \u001b[38;5;241m=\u001b[39m \u001b[38;5;124m\"\u001b[39m\u001b[38;5;124mHello, world!\u001b[39m\u001b[38;5;124m\"\u001b[39m\n",
      "File \u001b[1;32mc:\\Users\\bstruzinski\\source\\repos\\gpt-tokenizer\\minbpe\\basic.py:29\u001b[0m, in \u001b[0;36mBasicTokenizer.train\u001b[1;34m(self, text, vocab_size, verbose)\u001b[0m\n\u001b[0;32m     27\u001b[0m \u001b[38;5;28;01mfor\u001b[39;00m i \u001b[38;5;129;01min\u001b[39;00m \u001b[38;5;28mrange\u001b[39m(num_merges):\n\u001b[0;32m     28\u001b[0m     pair_freqs \u001b[38;5;241m=\u001b[39m count_pairs(tokens)\n\u001b[1;32m---> 29\u001b[0m     best_pair \u001b[38;5;241m=\u001b[39m \u001b[38;5;28;43mmax\u001b[39;49m\u001b[43m(\u001b[49m\u001b[43mpair_freqs\u001b[49m\u001b[43m,\u001b[49m\u001b[43m \u001b[49m\u001b[43mkey\u001b[49m\u001b[38;5;241;43m=\u001b[39;49m\u001b[43mpair_freqs\u001b[49m\u001b[38;5;241;43m.\u001b[39;49m\u001b[43mget\u001b[49m\u001b[43m)\u001b[49m\n\u001b[0;32m     30\u001b[0m     new_token \u001b[38;5;241m=\u001b[39m i \u001b[38;5;241m+\u001b[39m \u001b[38;5;241m256\u001b[39m\n\u001b[0;32m     31\u001b[0m     tokens \u001b[38;5;241m=\u001b[39m merge_tokens(tokens, best_pair, new_token)\n",
      "\u001b[1;31mValueError\u001b[0m: max() arg is an empty sequence"
     ]
    }
   ],
   "source": [
    "from minbpe import BasicTokenizer, RegexTokenizer\n",
    "\n",
    "basic = BasicTokenizer()\n",
    "regex = RegexTokenizer()\n",
    "\n",
    "basic.train(\"./test/taylorswift.txt\", 300)\n",
    "regex.train(\"./test/taylorswift.txt\", 300)\n",
    "\n",
    "text = \"Hello, world!\"\n",
    "encoded = basic.encode(text)\n",
    "decoded = regex.decode(encoded)\n",
    "\n",
    "print(f\"Encoded: {encoded}\")\n",
    "print(f\"Decoded: {decoded}\")"
   ]
  }
 ],
 "metadata": {
  "kernelspec": {
   "display_name": ".venv",
   "language": "python",
   "name": "python3"
  },
  "language_info": {
   "codemirror_mode": {
    "name": "ipython",
    "version": 3
   },
   "file_extension": ".py",
   "mimetype": "text/x-python",
   "name": "python",
   "nbconvert_exporter": "python",
   "pygments_lexer": "ipython3",
   "version": "3.11.9"
  }
 },
 "nbformat": 4,
 "nbformat_minor": 2
}
